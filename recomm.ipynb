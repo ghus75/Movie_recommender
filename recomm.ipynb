{
 "cells": [
  {
   "cell_type": "code",
   "execution_count": 171,
   "metadata": {
    "collapsed": true
   },
   "outputs": [],
   "source": [
    "import numpy as np\n",
    "from numpy import linalg\n",
    "import matplotlib.pyplot as plt\n",
    "import pandas as pd\n",
    "from sklearn import preprocessing\n",
    "from scipy import optimize\n",
    "\n",
    "import matplotlib\n",
    "import matplotlib.pyplot as plt\n",
    "%matplotlib inline\n",
    "matplotlib.rcParams['figure.figsize'] = 10, 5"
   ]
  },
  {
   "cell_type": "markdown",
   "metadata": {
    "collapsed": true
   },
   "source": [
    "## Get initial data"
   ]
  },
  {
   "cell_type": "code",
   "execution_count": 159,
   "metadata": {},
   "outputs": [
    {
     "data": {
      "text/html": [
       "<div>\n",
       "<style>\n",
       "    .dataframe thead tr:only-child th {\n",
       "        text-align: right;\n",
       "    }\n",
       "\n",
       "    .dataframe thead th {\n",
       "        text-align: left;\n",
       "    }\n",
       "\n",
       "    .dataframe tbody tr th {\n",
       "        vertical-align: top;\n",
       "    }\n",
       "</style>\n",
       "<table border=\"1\" class=\"dataframe\">\n",
       "  <thead>\n",
       "    <tr style=\"text-align: right;\">\n",
       "      <th></th>\n",
       "      <th>user id</th>\n",
       "      <th>item id</th>\n",
       "      <th>rating</th>\n",
       "      <th>timestamp</th>\n",
       "    </tr>\n",
       "  </thead>\n",
       "  <tbody>\n",
       "    <tr>\n",
       "      <th>0</th>\n",
       "      <td>196</td>\n",
       "      <td>242</td>\n",
       "      <td>3</td>\n",
       "      <td>881250949</td>\n",
       "    </tr>\n",
       "    <tr>\n",
       "      <th>1</th>\n",
       "      <td>186</td>\n",
       "      <td>302</td>\n",
       "      <td>3</td>\n",
       "      <td>891717742</td>\n",
       "    </tr>\n",
       "    <tr>\n",
       "      <th>2</th>\n",
       "      <td>22</td>\n",
       "      <td>377</td>\n",
       "      <td>1</td>\n",
       "      <td>878887116</td>\n",
       "    </tr>\n",
       "  </tbody>\n",
       "</table>\n",
       "</div>"
      ],
      "text/plain": [
       "   user id  item id  rating  timestamp\n",
       "0      196      242       3  881250949\n",
       "1      186      302       3  891717742\n",
       "2       22      377       1  878887116"
      ]
     },
     "execution_count": 159,
     "metadata": {},
     "output_type": "execute_result"
    }
   ],
   "source": [
    "data_df = pd.read_csv('./ml-100k/u.data', sep='\\t', header=None, names=['user id','item id','rating','timestamp'])\n",
    "data_df.head(3)"
   ]
  },
  {
   "cell_type": "code",
   "execution_count": 6,
   "metadata": {},
   "outputs": [
    {
     "data": {
      "text/plain": [
       "True"
      ]
     },
     "execution_count": 6,
     "metadata": {},
     "output_type": "execute_result"
    }
   ],
   "source": [
    "len(data_df) == len(data_df.dropna(how='any')) #check missing values"
   ]
  },
  {
   "cell_type": "markdown",
   "metadata": {},
   "source": [
    "check if: \n",
    "    - users are numbered from 1 to len(np.unique(data_df['user id'])\n",
    "    - items are numbered from 1 to len(np.unique(data_df['item id'])"
   ]
  },
  {
   "cell_type": "code",
   "execution_count": 8,
   "metadata": {},
   "outputs": [
    {
     "data": {
      "text/plain": [
       "(True, True)"
      ]
     },
     "execution_count": 8,
     "metadata": {},
     "output_type": "execute_result"
    }
   ],
   "source": [
    "(list(np.unique(data_df['user id'])) == range(1,len(np.unique(data_df['user id'])) + 1),\\\n",
    " list(np.unique(data_df['item id'])) == range(1,len(np.unique(data_df['item id'])) + 1))"
   ]
  },
  {
   "cell_type": "markdown",
   "metadata": {},
   "source": [
    "### Build matrix of ratings"
   ]
  },
  {
   "cell_type": "code",
   "execution_count": 9,
   "metadata": {
    "collapsed": true
   },
   "outputs": [],
   "source": [
    "n_u = len(np.unique(data_df['user id']))\n",
    "n_m = len(np.unique(data_df['item id']))\n",
    "Y = np.zeros((n_m, n_u)) # matrix of ratings"
   ]
  },
  {
   "cell_type": "code",
   "execution_count": 10,
   "metadata": {
    "collapsed": true
   },
   "outputs": [],
   "source": [
    "u_idx = []               #n_m lists of user indexes\n",
    "u_ratings = []           #n_m lists of user ratings\n",
    "for movie in range(n_m):\n",
    "    u_idx.append(data_df[data_df['item id'] == (movie + 1)].sort_values(by= 'user id')['user id'].values)\n",
    "    u_ratings.append(data_df[data_df['item id'] == (movie + 1)].sort_values(by= 'user id')['rating'].values)\n",
    "    for i in range(len(u_idx[movie])):\n",
    "        Y[movie,:][u_idx[movie][i] - 1] = u_ratings[movie][i]"
   ]
  },
  {
   "cell_type": "code",
   "execution_count": 11,
   "metadata": {
    "collapsed": true
   },
   "outputs": [],
   "source": [
    "Bool_mask = np.zeros((Y.shape[0], Y.shape[1])) # boolean mask matrix ( = 1 if rating exists)\n",
    "Bool_mask[Y != 0] = 1"
   ]
  },
  {
   "cell_type": "code",
   "execution_count": 229,
   "metadata": {},
   "outputs": [
    {
     "name": "stdout",
     "output_type": "stream",
     "text": [
      "Sparsity = 93.70 %\n"
     ]
    }
   ],
   "source": [
    "print ('Sparsity = {:4.2f} %'.format(100*(1 - np.sum(np.sum(Bool_mask, axis = 0))/(n_m*n_u))))"
   ]
  },
  {
   "cell_type": "code",
   "execution_count": 173,
   "metadata": {},
   "outputs": [
    {
     "data": {
      "text/plain": [
       "<matplotlib.image.AxesImage at 0x7fb6a7e43c50>"
      ]
     },
     "execution_count": 173,
     "metadata": {},
     "output_type": "execute_result"
    },
    {
     "data": {
      "image/png": "[encoded data removed]",
      "text/plain": [
       "<matplotlib.figure.Figure at 0x7fb6a7f1cb50>"
      ]
     },
     "metadata": {},
     "output_type": "display_data"
    }
   ],
   "source": [
    "fig = plt.figure()\n",
    "ax1 = fig.add_subplot(111)\n",
    "ax1.set_xlabel('user id')\n",
    "ax1.set_ylabel('movie id')\n",
    "\n",
    "plt.title('Y matrix of ratings')\n",
    "plt.imshow(Y.T)"
   ]
  },
  {
   "cell_type": "markdown",
   "metadata": {},
   "source": [
    "## Recommendation engine"
   ]
  },
  {
   "cell_type": "markdown",
   "metadata": {},
   "source": [
    "### - Learn latent features of existing users and movies using low rank matrix factorization"
   ]
  },
  {
   "cell_type": "code",
   "execution_count": 247,
   "metadata": {
    "collapsed": true
   },
   "outputs": [],
   "source": [
    "# number of features\n",
    "n_f = 10"
   ]
  },
  {
   "cell_type": "code",
   "execution_count": 228,
   "metadata": {
    "collapsed": true
   },
   "outputs": [],
   "source": [
    "def cost_function(params, Y, Bool_mask, n_f, lambda_):\n",
    "    \"\"\"\n",
    "    input : params : vector containing user and movies embeddings - params is then reshaped into movies and users\n",
    "                     matrices (resp. X and Theta) \n",
    "            Y : ratings matrix\n",
    "            Bool_mask : boolean mask for rated movies\n",
    "            n_f : number of features (number of dimensions for user and movie embeddings)\n",
    "            lambda_ : regularization parameter\n",
    "            \n",
    "    output: J : cost function to minimize\n",
    "    \"\"\"\n",
    "    \n",
    "    movie_params = params[:Y.shape[0]*n_f]\n",
    "    user_params = params[-Y.shape[1]*n_f:]\n",
    "    \n",
    "    X = np.reshape(movie_params, (Y.shape[0], n_f))\n",
    "    Theta = np.reshape(user_params, (Y.shape[1], n_f))\n",
    "    \n",
    "    J = 0.5*np.sum(np.sum(Bool_mask*(np.dot(X, Theta.T) - Y)**2))\n",
    "    J = J + (lambda_/2.)*(np.sum(np.sum(X**2)) + np.sum(np.sum(Theta**2)))\n",
    "    \n",
    "    return J"
   ]
  },
  {
   "cell_type": "code",
   "execution_count": 68,
   "metadata": {
    "collapsed": true
   },
   "outputs": [],
   "source": [
    "def grad_J(params, Y, Bool_mask, n_f, lambda_):\n",
    "    \"\"\"\n",
    "    input : params : vector containing user and movies embeddings - params is then reshaped into movies and users\n",
    "                     matrices (resp. X and Theta) \n",
    "            Y : ratings matrix\n",
    "            Bool_mask : boolean mask for rated movies\n",
    "            n_f : number of features (number of dimensions for user and movie embeddings)\n",
    "            lambda_ : regularization parameter\n",
    "            \n",
    "    output: grad_J : vector containing all cost function derivatives, same dimension as params\n",
    "    \"\"\"\n",
    "\n",
    "    movie_params = params[:Y.shape[0]*n_f]\n",
    "    user_params = params[-Y.shape[1]*n_f:]\n",
    "\n",
    "    X = np.reshape(movie_params, (Y.shape[0], n_f))\n",
    "    Theta = np.reshape(user_params, (Y.shape[1], n_f))\n",
    "    X_grad = np.zeros((Y.shape[0], n_f))\n",
    "    Theta_grad = np.zeros((Y.shape[1], n_f))\n",
    "    \n",
    "    for movie in range(X.shape[0]):\n",
    "        X_grad[movie,:] = np.dot(Bool_mask[movie,:]*(np.dot(X[movie,:], Theta.T) - Y[movie,:]), Theta)\n",
    "        X_grad[movie,:] = X_grad[movie,:] + lambda_*X[movie,:]\n",
    "    \n",
    "    for user in range(Theta.shape[0]):\n",
    "        Theta_grad[user,:] = np.dot(X.T, (Bool_mask[:,user]*(np.dot(X, Theta.T[:,user]) - Y[:,user])))\n",
    "        Theta_grad[user,:] = Theta_grad[user,:] + lambda_*Theta[user,:]\n",
    "    \n",
    "    grad_X_params = np.reshape(X_grad, -1)\n",
    "    grad_Theta_params = np.reshape(Theta_grad, -1)\n",
    "    grad_params = np.concatenate([grad_X_params, grad_Theta_params])\n",
    "    \n",
    "    return grad_params"
   ]
  },
  {
   "cell_type": "code",
   "execution_count": 250,
   "metadata": {
    "collapsed": true
   },
   "outputs": [],
   "source": [
    "def normalize_ratings(Y, Bool_mask):\n",
    "    \"\"\"\n",
    "    input : Y : ratings matrix, Bool_mask : boolean mask for rated movies\n",
    "    output: Y_norm normalized matrix : each movie of Y_norm has a rating of 0 on average\n",
    "            Y_mean : mean score for each movie in original dataset Y\n",
    "    \"\"\"\n",
    "    Y_norm = np.zeros((Y.shape[0], Y.shape[1]))\n",
    "    Y_mean = np.zeros(Y.shape[0]) #mean score for each movie\n",
    "\n",
    "    for movie in range(Y.shape[0]):\n",
    "        idx = [user for user in range(Y.shape[1]) if (Bool_mask[movie,:][user] == 1)] # index of user ratings, if any\n",
    "        Y_mean[movie] = np.mean(Y[movie][idx])\n",
    "        Y_norm[movie][idx] = Y[movie][idx] - Y_mean[movie] # substract mean to every user rating\n",
    "    \n",
    "    return Y_norm, Y_mean"
   ]
  },
  {
   "cell_type": "code",
   "execution_count": 122,
   "metadata": {
    "collapsed": true
   },
   "outputs": [],
   "source": [
    "def get_prediction_matrix(Y, Bool_mask, n_f, lambda_):\n",
    "    \"\"\"\n",
    "    input : Y : ratings matrix\n",
    "            Bool_mask : boolean mask for rated movies\n",
    "            n_f : number of features (number of dimensions for user and movie embeddings)\n",
    "            lambda_ : regularization parameter\n",
    "            \n",
    "    output: prediction_matrix : matrix of predicted ratings\n",
    "    \"\"\"\n",
    "    \n",
    "    X = np.random.randn(Y.shape[0], n_f)#(scale = 1./n_f, size = (n_m, n_f)) # movie features matrix\n",
    "    Theta = np.random.randn(Y.shape[1], n_f)#(scale = 1./n_f, size = (n_u, n_f)) # movie features matrix\n",
    "\n",
    "    x0 = np.concatenate([X.reshape(-1), Theta.reshape(-1)])\n",
    "    Y_norm, Y_mean = normalize_ratings(Y, Bool_mask)\n",
    "    \n",
    "    res1 = optimize.fmin_cg(cost_function, x0, fprime = grad_J, args = (Y_norm, Bool_mask, n_f, lambda_), maxiter = 100)\n",
    "    \n",
    "    movie_params = res1[:Y.shape[0]*n_f]\n",
    "    user_params = res1[-Y.shape[1]*n_f:]\n",
    "\n",
    "    X = np.reshape(movie_params, (Y.shape[0], n_f))\n",
    "    Theta = np.reshape(user_params, (Y.shape[1], n_f))\n",
    "\n",
    "    prediction_matrix = np.dot(X, Theta.T)\n",
    "    for movie in range(prediction_matrix.shape[0]):\n",
    "        prediction_matrix[movie,:] += Y_mean[movie]\n",
    "    \n",
    "    return prediction_matrix"
   ]
  },
  {
   "cell_type": "markdown",
   "metadata": {},
   "source": [
    "### - Mapping movie ids to titles"
   ]
  },
  {
   "cell_type": "code",
   "execution_count": 165,
   "metadata": {},
   "outputs": [
    {
     "data": {
      "text/html": [
       "<div>\n",
       "<style>\n",
       "    .dataframe thead tr:only-child th {\n",
       "        text-align: right;\n",
       "    }\n",
       "\n",
       "    .dataframe thead th {\n",
       "        text-align: left;\n",
       "    }\n",
       "\n",
       "    .dataframe tbody tr th {\n",
       "        vertical-align: top;\n",
       "    }\n",
       "</style>\n",
       "<table border=\"1\" class=\"dataframe\">\n",
       "  <thead>\n",
       "    <tr style=\"text-align: right;\">\n",
       "      <th></th>\n",
       "      <th>movie id</th>\n",
       "      <th>movie title</th>\n",
       "      <th>release date</th>\n",
       "      <th>video release date</th>\n",
       "      <th>IMDb URL</th>\n",
       "      <th>unknown</th>\n",
       "      <th>Action</th>\n",
       "      <th>Adventure</th>\n",
       "      <th>Animation</th>\n",
       "      <th>Childrens</th>\n",
       "      <th>...</th>\n",
       "      <th>Fantasy</th>\n",
       "      <th>Film-Noir</th>\n",
       "      <th>Horror</th>\n",
       "      <th>Musical</th>\n",
       "      <th>Mystery</th>\n",
       "      <th>Romance</th>\n",
       "      <th>Sci-Fi</th>\n",
       "      <th>Thriller</th>\n",
       "      <th>War</th>\n",
       "      <th>Western</th>\n",
       "    </tr>\n",
       "  </thead>\n",
       "  <tbody>\n",
       "    <tr>\n",
       "      <th>0</th>\n",
       "      <td>1</td>\n",
       "      <td>Toy Story (1995)</td>\n",
       "      <td>01-Jan-1995</td>\n",
       "      <td>NaN</td>\n",
       "      <td>http://us.imdb.com/M/title-exact?Toy%20Story%2...</td>\n",
       "      <td>0</td>\n",
       "      <td>0</td>\n",
       "      <td>0</td>\n",
       "      <td>1</td>\n",
       "      <td>1</td>\n",
       "      <td>...</td>\n",
       "      <td>0</td>\n",
       "      <td>0</td>\n",
       "      <td>0</td>\n",
       "      <td>0</td>\n",
       "      <td>0</td>\n",
       "      <td>0</td>\n",
       "      <td>0</td>\n",
       "      <td>0</td>\n",
       "      <td>0</td>\n",
       "      <td>0</td>\n",
       "    </tr>\n",
       "    <tr>\n",
       "      <th>1</th>\n",
       "      <td>2</td>\n",
       "      <td>GoldenEye (1995)</td>\n",
       "      <td>01-Jan-1995</td>\n",
       "      <td>NaN</td>\n",
       "      <td>http://us.imdb.com/M/title-exact?GoldenEye%20(...</td>\n",
       "      <td>0</td>\n",
       "      <td>1</td>\n",
       "      <td>1</td>\n",
       "      <td>0</td>\n",
       "      <td>0</td>\n",
       "      <td>...</td>\n",
       "      <td>0</td>\n",
       "      <td>0</td>\n",
       "      <td>0</td>\n",
       "      <td>0</td>\n",
       "      <td>0</td>\n",
       "      <td>0</td>\n",
       "      <td>0</td>\n",
       "      <td>1</td>\n",
       "      <td>0</td>\n",
       "      <td>0</td>\n",
       "    </tr>\n",
       "    <tr>\n",
       "      <th>2</th>\n",
       "      <td>3</td>\n",
       "      <td>Four Rooms (1995)</td>\n",
       "      <td>01-Jan-1995</td>\n",
       "      <td>NaN</td>\n",
       "      <td>http://us.imdb.com/M/title-exact?Four%20Rooms%...</td>\n",
       "      <td>0</td>\n",
       "      <td>0</td>\n",
       "      <td>0</td>\n",
       "      <td>0</td>\n",
       "      <td>0</td>\n",
       "      <td>...</td>\n",
       "      <td>0</td>\n",
       "      <td>0</td>\n",
       "      <td>0</td>\n",
       "      <td>0</td>\n",
       "      <td>0</td>\n",
       "      <td>0</td>\n",
       "      <td>0</td>\n",
       "      <td>1</td>\n",
       "      <td>0</td>\n",
       "      <td>0</td>\n",
       "    </tr>\n",
       "  </tbody>\n",
       "</table>\n",
       "<p>3 rows × 24 columns</p>\n",
       "</div>"
      ],
      "text/plain": [
       "   movie id        movie title release date  video release date  \\\n",
       "0         1   Toy Story (1995)  01-Jan-1995                 NaN   \n",
       "1         2   GoldenEye (1995)  01-Jan-1995                 NaN   \n",
       "2         3  Four Rooms (1995)  01-Jan-1995                 NaN   \n",
       "\n",
       "                                            IMDb URL  unknown  Action  \\\n",
       "0  http://us.imdb.com/M/title-exact?Toy%20Story%2...        0       0   \n",
       "1  http://us.imdb.com/M/title-exact?GoldenEye%20(...        0       1   \n",
       "2  http://us.imdb.com/M/title-exact?Four%20Rooms%...        0       0   \n",
       "\n",
       "   Adventure  Animation  Childrens   ...     Fantasy  Film-Noir  Horror  \\\n",
       "0          0          1          1   ...           0          0       0   \n",
       "1          1          0          0   ...           0          0       0   \n",
       "2          0          0          0   ...           0          0       0   \n",
       "\n",
       "   Musical  Mystery  Romance  Sci-Fi  Thriller  War  Western  \n",
       "0        0        0        0       0         0    0        0  \n",
       "1        0        0        0       0         1    0        0  \n",
       "2        0        0        0       0         1    0        0  \n",
       "\n",
       "[3 rows x 24 columns]"
      ]
     },
     "execution_count": 165,
     "metadata": {},
     "output_type": "execute_result"
    }
   ],
   "source": [
    "movie_df = pd.read_csv('./ml-100k/u.item', sep='|', header=None, names=['movie id','movie title','release date','video release date','IMDb URL','unknown','Action','Adventure','Animation','Childrens','Comedy','Crime','Documentary','Drama','Fantasy','Film-Noir','Horror','Musical','Mystery','Romance','Sci-Fi','Thriller','War','Western'])\n",
    "movie_df.head(3)"
   ]
  },
  {
   "cell_type": "markdown",
   "metadata": {},
   "source": [
    "## Make recommendations for new user"
   ]
  },
  {
   "cell_type": "markdown",
   "metadata": {},
   "source": [
    "### - Add new user with some ratings"
   ]
  },
  {
   "cell_type": "code",
   "execution_count": 236,
   "metadata": {
    "collapsed": true
   },
   "outputs": [],
   "source": [
    "new_user_ratings = np.zeros((1682, 1));"
   ]
  },
  {
   "cell_type": "code",
   "execution_count": 237,
   "metadata": {
    "collapsed": true
   },
   "outputs": [],
   "source": [
    "new_user_ratings[1]= 5;\n",
    "new_user_ratings[12]= 3;\n",
    "new_user_ratings[22]= 5;\n",
    "new_user_ratings[41]= 5;\n",
    "new_user_ratings[70]= 1;\n",
    "new_user_ratings[95]= 1;\n",
    "new_user_ratings[153]= 5;\n",
    "new_user_ratings[312]= 1;\n",
    "new_user_ratings[323]= 5;\n",
    "new_user_ratings[491]= 5;\n",
    "new_user_ratings[589]= 1;\n",
    "new_user_ratings[613]= 5;\n",
    "new_user_ratings[734]= 4;\n",
    "new_user_ratings[940]= 2;\n",
    "new_user_ratings[1098]= 5;\n",
    "new_user_ratings[1265]= 5;\n",
    "new_user_ratings[1273]= 2;\n",
    "new_user_ratings[1677]= 5;"
   ]
  },
  {
   "cell_type": "code",
   "execution_count": 238,
   "metadata": {},
   "outputs": [
    {
     "name": "stdout",
     "output_type": "stream",
     "text": [
      "Rated 5 for : GoldenEye (1995)\n",
      "Rated 3 for : Mighty Aphrodite (1995)\n",
      "Rated 5 for : Taxi Driver (1976)\n",
      "Rated 5 for : Clerks (1994)\n",
      "Rated 1 for : Lion King, The (1994)\n",
      "Rated 1 for : Terminator 2: Judgment Day (1991)\n",
      "Rated 5 for : Monty Python's Life of Brian (1979)\n",
      "Rated 1 for : Titanic (1997)\n",
      "Rated 5 for : Lost Highway (1997)\n",
      "Rated 5 for : East of Eden (1955)\n",
      "Rated 1 for : Hellraiser: Bloodline (1996)\n",
      "Rated 5 for : Giant (1956)\n",
      "Rated 4 for : Philadelphia (1993)\n",
      "Rated 2 for : With Honors (1994)\n",
      "Rated 5 for : Red Firecracker, Green Firecracker (1994)\n",
      "Rated 5 for : Bread and Chocolate (Pane e cioccolata) (1973)\n",
      "Rated 2 for : Robocop 3 (1993)\n",
      "Rated 5 for : Mat' i syn (1997)\n"
     ]
    }
   ],
   "source": [
    "for movie in range(len(new_user_ratings)):\n",
    "    if new_user_ratings[movie] != 0:\n",
    "        print ('Rated {} for : {}'.format(int(new_user_ratings[movie]), movie_df['movie title'][movie]))"
   ]
  },
  {
   "cell_type": "markdown",
   "metadata": {},
   "source": [
    "### - Define updated ratings matrix with new user info"
   ]
  },
  {
   "cell_type": "code",
   "execution_count": 239,
   "metadata": {
    "collapsed": true
   },
   "outputs": [],
   "source": [
    "Y_new = np.hstack((Y, new_user_ratings))\n",
    "Bool_mask_new = np.hstack((Bool_mask, np.ones((Y.shape[0], 1))*(new_user_ratings != 0)))"
   ]
  },
  {
   "cell_type": "code",
   "execution_count": 240,
   "metadata": {
    "collapsed": true
   },
   "outputs": [],
   "source": [
    "Y_norm, Y_mean =normalize_ratings(Y_new, Bool_mask_new)"
   ]
  },
  {
   "cell_type": "code",
   "execution_count": 241,
   "metadata": {
    "scrolled": false
   },
   "outputs": [
    {
     "data": {
      "text/plain": [
       "[<matplotlib.lines.Line2D at 0x7fb6a5c90ad0>]"
      ]
     },
     "execution_count": 241,
     "metadata": {},
     "output_type": "execute_result"
    },
    {
     "data": {
      "image/png": "[encoded data removed]",
      "text/plain": [
       "<matplotlib.figure.Figure at 0x7fb6a5cd0950>"
      ]
     },
     "metadata": {},
     "output_type": "display_data"
    }
   ],
   "source": [
    "fig = plt.figure()\n",
    "ax1 = fig.add_subplot(111)\n",
    "ax1.set_xlabel('movie id')\n",
    "ax1.set_ylabel('rating')\n",
    "\n",
    "plt.title('Average rating for each movie')\n",
    "plt.plot(Y_mean)"
   ]
  },
  {
   "cell_type": "markdown",
   "metadata": {},
   "source": [
    "### - Calculate matrix of predicted ratings"
   ]
  },
  {
   "cell_type": "code",
   "execution_count": 249,
   "metadata": {},
   "outputs": [
    {
     "name": "stdout",
     "output_type": "stream",
     "text": [
      "Warning: Maximum number of iterations has been exceeded.\n",
      "         Current function value: 38971.073648\n",
      "         Iterations: 100\n",
      "         Function evaluations: 153\n",
      "         Gradient evaluations: 153\n"
     ]
    }
   ],
   "source": [
    "prediction_matrix = get_prediction_matrix(Y_new, Bool_mask_new, n_f, lambda_ = 10)"
   ]
  },
  {
   "cell_type": "code",
   "execution_count": 251,
   "metadata": {
    "collapsed": true
   },
   "outputs": [],
   "source": [
    "new_user_predicted_ratings = prediction_matrix[:,-1]"
   ]
  },
  {
   "cell_type": "code",
   "execution_count": 261,
   "metadata": {
    "collapsed": true,
    "scrolled": true
   },
   "outputs": [],
   "source": [
    "recomm_df = pd.concat([movie_df.loc[:,['movie id','movie title']], \\\n",
    "                      pd.Series(new_user_predicted_ratings, name='predicted ratings')],\\\n",
    "                      axis=1)\n",
    "recomm_df = pd.concat([recomm_df, pd.Series(Bool_mask_new[:,-1], name = 'rated')], axis = 1)\n",
    "recomm_df = recomm_df[recomm_df['rated'] == 0] # mask movies already rated\n",
    "recomm_df = recomm_df.drop('rated', axis = 1)"
   ]
  },
  {
   "cell_type": "code",
   "execution_count": 262,
   "metadata": {
    "collapsed": true,
    "scrolled": true
   },
   "outputs": [],
   "source": [
    "recomm_df = recomm_df.sort_values(by='predicted ratings', ascending=False)"
   ]
  },
  {
   "cell_type": "markdown",
   "metadata": {},
   "source": [
    "### Top 50 most recommended movies"
   ]
  },
  {
   "cell_type": "code",
   "execution_count": 264,
   "metadata": {},
   "outputs": [
    {
     "data": {
      "text/html": [
       "<div>\n",
       "<style>\n",
       "    .dataframe thead tr:only-child th {\n",
       "        text-align: right;\n",
       "    }\n",
       "\n",
       "    .dataframe thead th {\n",
       "        text-align: left;\n",
       "    }\n",
       "\n",
       "    .dataframe tbody tr th {\n",
       "        vertical-align: top;\n",
       "    }\n",
       "</style>\n",
       "<table border=\"1\" class=\"dataframe\">\n",
       "  <thead>\n",
       "    <tr style=\"text-align: right;\">\n",
       "      <th></th>\n",
       "      <th>movie id</th>\n",
       "      <th>movie title</th>\n",
       "      <th>predicted ratings</th>\n",
       "    </tr>\n",
       "  </thead>\n",
       "  <tbody>\n",
       "    <tr>\n",
       "      <th>1535</th>\n",
       "      <td>1536</td>\n",
       "      <td>Aiqing wansui (1994)</td>\n",
       "      <td>5.000002</td>\n",
       "    </tr>\n",
       "    <tr>\n",
       "      <th>813</th>\n",
       "      <td>814</td>\n",
       "      <td>Great Day in Harlem, A (1994)</td>\n",
       "      <td>5.000001</td>\n",
       "    </tr>\n",
       "    <tr>\n",
       "      <th>1200</th>\n",
       "      <td>1201</td>\n",
       "      <td>Marlene Dietrich: Shadow and Light (1996)</td>\n",
       "      <td>5.000000</td>\n",
       "    </tr>\n",
       "    <tr>\n",
       "      <th>1121</th>\n",
       "      <td>1122</td>\n",
       "      <td>They Made Me a Criminal (1939)</td>\n",
       "      <td>5.000000</td>\n",
       "    </tr>\n",
       "    <tr>\n",
       "      <th>1652</th>\n",
       "      <td>1653</td>\n",
       "      <td>Entertaining Angels: The Dorothy Day Story (1996)</td>\n",
       "      <td>5.000000</td>\n",
       "    </tr>\n",
       "    <tr>\n",
       "      <th>1466</th>\n",
       "      <td>1467</td>\n",
       "      <td>Saint of Fort Washington, The (1993)</td>\n",
       "      <td>5.000000</td>\n",
       "    </tr>\n",
       "    <tr>\n",
       "      <th>1598</th>\n",
       "      <td>1599</td>\n",
       "      <td>Someone Else's America (1995)</td>\n",
       "      <td>5.000000</td>\n",
       "    </tr>\n",
       "    <tr>\n",
       "      <th>1292</th>\n",
       "      <td>1293</td>\n",
       "      <td>Star Kid (1997)</td>\n",
       "      <td>4.999999</td>\n",
       "    </tr>\n",
       "    <tr>\n",
       "      <th>1188</th>\n",
       "      <td>1189</td>\n",
       "      <td>Prefontaine (1997)</td>\n",
       "      <td>4.999999</td>\n",
       "    </tr>\n",
       "    <tr>\n",
       "      <th>1499</th>\n",
       "      <td>1500</td>\n",
       "      <td>Santa with Muscles (1996)</td>\n",
       "      <td>4.999999</td>\n",
       "    </tr>\n",
       "    <tr>\n",
       "      <th>407</th>\n",
       "      <td>408</td>\n",
       "      <td>Close Shave, A (1995)</td>\n",
       "      <td>4.816055</td>\n",
       "    </tr>\n",
       "    <tr>\n",
       "      <th>473</th>\n",
       "      <td>474</td>\n",
       "      <td>Dr. Strangelove or: How I Learned to Stop Worr...</td>\n",
       "      <td>4.754071</td>\n",
       "    </tr>\n",
       "    <tr>\n",
       "      <th>178</th>\n",
       "      <td>179</td>\n",
       "      <td>Clockwork Orange, A (1971)</td>\n",
       "      <td>4.640031</td>\n",
       "    </tr>\n",
       "    <tr>\n",
       "      <th>284</th>\n",
       "      <td>285</td>\n",
       "      <td>Secrets &amp; Lies (1996)</td>\n",
       "      <td>4.626935</td>\n",
       "    </tr>\n",
       "    <tr>\n",
       "      <th>1448</th>\n",
       "      <td>1449</td>\n",
       "      <td>Pather Panchali (1955)</td>\n",
       "      <td>4.601713</td>\n",
       "    </tr>\n",
       "    <tr>\n",
       "      <th>174</th>\n",
       "      <td>175</td>\n",
       "      <td>Brazil (1985)</td>\n",
       "      <td>4.579960</td>\n",
       "    </tr>\n",
       "    <tr>\n",
       "      <th>99</th>\n",
       "      <td>100</td>\n",
       "      <td>Fargo (1996)</td>\n",
       "      <td>4.560647</td>\n",
       "    </tr>\n",
       "    <tr>\n",
       "      <th>482</th>\n",
       "      <td>483</td>\n",
       "      <td>Casablanca (1942)</td>\n",
       "      <td>4.558083</td>\n",
       "    </tr>\n",
       "    <tr>\n",
       "      <th>133</th>\n",
       "      <td>134</td>\n",
       "      <td>Citizen Kane (1941)</td>\n",
       "      <td>4.553287</td>\n",
       "    </tr>\n",
       "    <tr>\n",
       "      <th>653</th>\n",
       "      <td>654</td>\n",
       "      <td>Chinatown (1974)</td>\n",
       "      <td>4.548321</td>\n",
       "    </tr>\n",
       "    <tr>\n",
       "      <th>123</th>\n",
       "      <td>124</td>\n",
       "      <td>Lone Star (1996)</td>\n",
       "      <td>4.544817</td>\n",
       "    </tr>\n",
       "    <tr>\n",
       "      <th>59</th>\n",
       "      <td>60</td>\n",
       "      <td>Three Colors: Blue (1993)</td>\n",
       "      <td>4.542420</td>\n",
       "    </tr>\n",
       "    <tr>\n",
       "      <th>168</th>\n",
       "      <td>169</td>\n",
       "      <td>Wrong Trousers, The (1993)</td>\n",
       "      <td>4.534346</td>\n",
       "    </tr>\n",
       "    <tr>\n",
       "      <th>118</th>\n",
       "      <td>119</td>\n",
       "      <td>Maya Lin: A Strong Clear Vision (1994)</td>\n",
       "      <td>4.527155</td>\n",
       "    </tr>\n",
       "    <tr>\n",
       "      <th>602</th>\n",
       "      <td>603</td>\n",
       "      <td>Rear Window (1954)</td>\n",
       "      <td>4.525169</td>\n",
       "    </tr>\n",
       "    <tr>\n",
       "      <th>1641</th>\n",
       "      <td>1642</td>\n",
       "      <td>Some Mother's Son (1996)</td>\n",
       "      <td>4.524904</td>\n",
       "    </tr>\n",
       "    <tr>\n",
       "      <th>113</th>\n",
       "      <td>114</td>\n",
       "      <td>Wallace &amp; Gromit: The Best of Aardman Animatio...</td>\n",
       "      <td>4.524222</td>\n",
       "    </tr>\n",
       "    <tr>\n",
       "      <th>1397</th>\n",
       "      <td>1398</td>\n",
       "      <td>Anna (1996)</td>\n",
       "      <td>4.512426</td>\n",
       "    </tr>\n",
       "    <tr>\n",
       "      <th>1593</th>\n",
       "      <td>1594</td>\n",
       "      <td>Everest (1998)</td>\n",
       "      <td>4.497193</td>\n",
       "    </tr>\n",
       "    <tr>\n",
       "      <th>177</th>\n",
       "      <td>178</td>\n",
       "      <td>12 Angry Men (1957)</td>\n",
       "      <td>4.495249</td>\n",
       "    </tr>\n",
       "    <tr>\n",
       "      <th>512</th>\n",
       "      <td>513</td>\n",
       "      <td>Third Man, The (1949)</td>\n",
       "      <td>4.490790</td>\n",
       "    </tr>\n",
       "    <tr>\n",
       "      <th>268</th>\n",
       "      <td>269</td>\n",
       "      <td>Full Monty, The (1997)</td>\n",
       "      <td>4.490539</td>\n",
       "    </tr>\n",
       "    <tr>\n",
       "      <th>646</th>\n",
       "      <td>647</td>\n",
       "      <td>Ran (1985)</td>\n",
       "      <td>4.486561</td>\n",
       "    </tr>\n",
       "    <tr>\n",
       "      <th>241</th>\n",
       "      <td>242</td>\n",
       "      <td>Kolya (1996)</td>\n",
       "      <td>4.476060</td>\n",
       "    </tr>\n",
       "    <tr>\n",
       "      <th>136</th>\n",
       "      <td>137</td>\n",
       "      <td>Big Night (1996)</td>\n",
       "      <td>4.470827</td>\n",
       "    </tr>\n",
       "    <tr>\n",
       "      <th>250</th>\n",
       "      <td>251</td>\n",
       "      <td>Shall We Dance? (1996)</td>\n",
       "      <td>4.464386</td>\n",
       "    </tr>\n",
       "    <tr>\n",
       "      <th>474</th>\n",
       "      <td>475</td>\n",
       "      <td>Trainspotting (1996)</td>\n",
       "      <td>4.461792</td>\n",
       "    </tr>\n",
       "    <tr>\n",
       "      <th>1366</th>\n",
       "      <td>1367</td>\n",
       "      <td>Faust (1994)</td>\n",
       "      <td>4.455559</td>\n",
       "    </tr>\n",
       "    <tr>\n",
       "      <th>13</th>\n",
       "      <td>14</td>\n",
       "      <td>Postino, Il (1994)</td>\n",
       "      <td>4.455148</td>\n",
       "    </tr>\n",
       "    <tr>\n",
       "      <th>656</th>\n",
       "      <td>657</td>\n",
       "      <td>Manchurian Candidate, The (1962)</td>\n",
       "      <td>4.446991</td>\n",
       "    </tr>\n",
       "    <tr>\n",
       "      <th>922</th>\n",
       "      <td>923</td>\n",
       "      <td>Raise the Red Lantern (1991)</td>\n",
       "      <td>4.432725</td>\n",
       "    </tr>\n",
       "    <tr>\n",
       "      <th>1190</th>\n",
       "      <td>1191</td>\n",
       "      <td>Letter From Death Row, A (1998)</td>\n",
       "      <td>4.409001</td>\n",
       "    </tr>\n",
       "    <tr>\n",
       "      <th>301</th>\n",
       "      <td>302</td>\n",
       "      <td>L.A. Confidential (1997)</td>\n",
       "      <td>4.403298</td>\n",
       "    </tr>\n",
       "    <tr>\n",
       "      <th>708</th>\n",
       "      <td>709</td>\n",
       "      <td>Strictly Ballroom (1992)</td>\n",
       "      <td>4.402990</td>\n",
       "    </tr>\n",
       "    <tr>\n",
       "      <th>11</th>\n",
       "      <td>12</td>\n",
       "      <td>Usual Suspects, The (1995)</td>\n",
       "      <td>4.390496</td>\n",
       "    </tr>\n",
       "    <tr>\n",
       "      <th>487</th>\n",
       "      <td>488</td>\n",
       "      <td>Sunset Blvd. (1950)</td>\n",
       "      <td>4.375970</td>\n",
       "    </tr>\n",
       "    <tr>\n",
       "      <th>479</th>\n",
       "      <td>480</td>\n",
       "      <td>North by Northwest (1959)</td>\n",
       "      <td>4.372756</td>\n",
       "    </tr>\n",
       "    <tr>\n",
       "      <th>478</th>\n",
       "      <td>479</td>\n",
       "      <td>Vertigo (1958)</td>\n",
       "      <td>4.367063</td>\n",
       "    </tr>\n",
       "    <tr>\n",
       "      <th>58</th>\n",
       "      <td>59</td>\n",
       "      <td>Three Colors: Red (1994)</td>\n",
       "      <td>4.360057</td>\n",
       "    </tr>\n",
       "    <tr>\n",
       "      <th>492</th>\n",
       "      <td>493</td>\n",
       "      <td>Thin Man, The (1934)</td>\n",
       "      <td>4.352469</td>\n",
       "    </tr>\n",
       "  </tbody>\n",
       "</table>\n",
       "</div>"
      ],
      "text/plain": [
       "      movie id                                        movie title  \\\n",
       "1535      1536                               Aiqing wansui (1994)   \n",
       "813        814                      Great Day in Harlem, A (1994)   \n",
       "1200      1201         Marlene Dietrich: Shadow and Light (1996)    \n",
       "1121      1122                     They Made Me a Criminal (1939)   \n",
       "1652      1653  Entertaining Angels: The Dorothy Day Story (1996)   \n",
       "1466      1467               Saint of Fort Washington, The (1993)   \n",
       "1598      1599                      Someone Else's America (1995)   \n",
       "1292      1293                                    Star Kid (1997)   \n",
       "1188      1189                                 Prefontaine (1997)   \n",
       "1499      1500                          Santa with Muscles (1996)   \n",
       "407        408                              Close Shave, A (1995)   \n",
       "473        474  Dr. Strangelove or: How I Learned to Stop Worr...   \n",
       "178        179                         Clockwork Orange, A (1971)   \n",
       "284        285                              Secrets & Lies (1996)   \n",
       "1448      1449                             Pather Panchali (1955)   \n",
       "174        175                                      Brazil (1985)   \n",
       "99         100                                       Fargo (1996)   \n",
       "482        483                                  Casablanca (1942)   \n",
       "133        134                                Citizen Kane (1941)   \n",
       "653        654                                   Chinatown (1974)   \n",
       "123        124                                   Lone Star (1996)   \n",
       "59          60                          Three Colors: Blue (1993)   \n",
       "168        169                         Wrong Trousers, The (1993)   \n",
       "118        119             Maya Lin: A Strong Clear Vision (1994)   \n",
       "602        603                                 Rear Window (1954)   \n",
       "1641      1642                           Some Mother's Son (1996)   \n",
       "113        114  Wallace & Gromit: The Best of Aardman Animatio...   \n",
       "1397      1398                                        Anna (1996)   \n",
       "1593      1594                                     Everest (1998)   \n",
       "177        178                                12 Angry Men (1957)   \n",
       "512        513                              Third Man, The (1949)   \n",
       "268        269                             Full Monty, The (1997)   \n",
       "646        647                                         Ran (1985)   \n",
       "241        242                                       Kolya (1996)   \n",
       "136        137                                   Big Night (1996)   \n",
       "250        251                             Shall We Dance? (1996)   \n",
       "474        475                               Trainspotting (1996)   \n",
       "1366      1367                                       Faust (1994)   \n",
       "13          14                                 Postino, Il (1994)   \n",
       "656        657                   Manchurian Candidate, The (1962)   \n",
       "922        923                       Raise the Red Lantern (1991)   \n",
       "1190      1191                    Letter From Death Row, A (1998)   \n",
       "301        302                           L.A. Confidential (1997)   \n",
       "708        709                           Strictly Ballroom (1992)   \n",
       "11          12                         Usual Suspects, The (1995)   \n",
       "487        488                                Sunset Blvd. (1950)   \n",
       "479        480                          North by Northwest (1959)   \n",
       "478        479                                     Vertigo (1958)   \n",
       "58          59                           Three Colors: Red (1994)   \n",
       "492        493                               Thin Man, The (1934)   \n",
       "\n",
       "      predicted ratings  \n",
       "1535           5.000002  \n",
       "813            5.000001  \n",
       "1200           5.000000  \n",
       "1121           5.000000  \n",
       "1652           5.000000  \n",
       "1466           5.000000  \n",
       "1598           5.000000  \n",
       "1292           4.999999  \n",
       "1188           4.999999  \n",
       "1499           4.999999  \n",
       "407            4.816055  \n",
       "473            4.754071  \n",
       "178            4.640031  \n",
       "284            4.626935  \n",
       "1448           4.601713  \n",
       "174            4.579960  \n",
       "99             4.560647  \n",
       "482            4.558083  \n",
       "133            4.553287  \n",
       "653            4.548321  \n",
       "123            4.544817  \n",
       "59             4.542420  \n",
       "168            4.534346  \n",
       "118            4.527155  \n",
       "602            4.525169  \n",
       "1641           4.524904  \n",
       "113            4.524222  \n",
       "1397           4.512426  \n",
       "1593           4.497193  \n",
       "177            4.495249  \n",
       "512            4.490790  \n",
       "268            4.490539  \n",
       "646            4.486561  \n",
       "241            4.476060  \n",
       "136            4.470827  \n",
       "250            4.464386  \n",
       "474            4.461792  \n",
       "1366           4.455559  \n",
       "13             4.455148  \n",
       "656            4.446991  \n",
       "922            4.432725  \n",
       "1190           4.409001  \n",
       "301            4.403298  \n",
       "708            4.402990  \n",
       "11             4.390496  \n",
       "487            4.375970  \n",
       "479            4.372756  \n",
       "478            4.367063  \n",
       "58             4.360057  \n",
       "492            4.352469  "
      ]
     },
     "execution_count": 264,
     "metadata": {},
     "output_type": "execute_result"
    }
   ],
   "source": [
    "recomm_df.head(50)"
   ]
  },
  {
   "cell_type": "code",
   "execution_count": null,
   "metadata": {
    "collapsed": true
   },
   "outputs": [],
   "source": []
  },
  {
   "cell_type": "code",
   "execution_count": null,
   "metadata": {
    "collapsed": true
   },
   "outputs": [],
   "source": []
  }
 ],
 "metadata": {
  "kernelspec": {
   "display_name": "Python 2",
   "language": "python",
   "name": "python2"
  },
  "language_info": {
   "codemirror_mode": {
    "name": "ipython",
    "version": 2
   },
   "file_extension": ".py",
   "mimetype": "text/x-python",
   "name": "python",
   "nbconvert_exporter": "python",
   "pygments_lexer": "ipython2",
   "version": "2.7.13"
  }
 },
 "nbformat": 4,
 "nbformat_minor": 2
}
